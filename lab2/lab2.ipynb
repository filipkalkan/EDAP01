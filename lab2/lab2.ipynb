{
 "cells": [
  {
   "cell_type": "markdown",
   "id": "sacred-connecticut",
   "metadata": {},
   "source": [
    "# Classification with the perceptron and logistic regression\n",
    "\n",
    "__Individual assignment__\n",
    "\n",
    "Author of the assignment: Pierre Nugues\n",
    "\n",
    "__Student name__: Filip Kalkan"
   ]
  },
  {
   "cell_type": "markdown",
   "id": "single-jackson",
   "metadata": {},
   "source": [
    "## Objectives\n",
    "\n",
    "The objectives of this second assignment are to:\n",
    "\n",
    "1.  Write a linear regression program using gradient descent;\n",
    "2.  Write linear classifiers using the perceptron algorithm and logistic regression;\n",
    "3.  Experiment variations of the algorithms;\n",
    "4.  Evaluate your classifiers;\n",
    "5.  Experiment with popular tools;\n",
    "6.  Read a scientific article on optimization techniques and comment it;\n",
    "7.  Present your code, results, and comments in a short dissertation."
   ]
  },
  {
   "cell_type": "markdown",
   "id": "photographic-coral",
   "metadata": {},
   "source": [
    "## Overview\n",
    "\n",
    "The gradient descent is a basic technique to estimate linear discriminant functions. You will first use the gradient descent method to implement linear regression. You will then program the perceptron algorithm. Finally, you will improve the threshold function with the logistic curve (logistic regression). You will try various configurations and study their influence on the learning speed and accuracy."
   ]
  },
  {
   "cell_type": "markdown",
   "id": "express-external",
   "metadata": {},
   "source": [
    "##  Programming language\n",
    "As programming language, you will use Python and write your code in this notebook.\n",
    "\n",
    "You need to have a comprehensive Python distribution such as Anaconda (https://www.anaconda.com/products/individual). This distribution is available on the student computers at the computer science department.\n",
    "Finally, you start a notebook by typing:\n",
    "\n",
    "`jupyter lab`\n",
    "\n",
    "in a terminal window and you select the notebook by clicking on it in the left pane.\n",
    "You run the pieces of code by typing shift+enter."
   ]
  },
  {
   "cell_type": "markdown",
   "id": "adjacent-crawford",
   "metadata": {},
   "source": [
    "## Imports\n",
    "Imports you may use"
   ]
  },
  {
   "cell_type": "code",
   "execution_count": 37,
   "id": "demanding-violence",
   "metadata": {},
   "outputs": [],
   "source": [
    "import numpy as np\n",
    "import math\n",
    "import random\n",
    "import matplotlib.pyplot as plt\n",
    "from matplotlib import cm\n",
    "from mpl_toolkits.mplot3d import Axes3D"
   ]
  },
  {
   "cell_type": "markdown",
   "id": "interior-genealogy",
   "metadata": {},
   "source": [
    "## Linear Regression\n",
    "\n",
    "You will implement the gradient descent method as explained in pages 719--720 in Russell-Norvig and in the slides to compute regression lines. You will implement the stochastic and batch versions of the algorithm.\n",
    "\n",
    "You must try to do it yourself first. If you encounter difficulties, you also have the solution to this exercise in the section _Solution to linear regression_ below."
   ]
  },
  {
   "cell_type": "markdown",
   "id": "entire-basic",
   "metadata": {},
   "source": [
    "### Your implementation of linear regression\n",
    "You will implement a regression program to predict the counts of _A_'s in a text from the total count of letters. You will apply it on two data sets corresponding to letter counts in the 15 chapters of the French and English versions of _Salammbô_, where the first column is the total count of characters and the second one, the count of A's. \n",
    "\n",
    "Start with either French or English and when your program ready, test it on the other language."
   ]
  },
  {
   "cell_type": "code",
   "execution_count": 38,
   "id": "forbidden-front",
   "metadata": {},
   "outputs": [],
   "source": [
    "stat_fr = np.array([[36961, 2503],\n",
    "                      [43621, 2992],\n",
    "                      [15694, 1042],\n",
    "                      [36231, 2487],\n",
    "                      [29945, 2014],\n",
    "                      [40588, 2805],\n",
    "                      [75255, 5062],\n",
    "                      [37709, 2643],\n",
    "                      [30899, 2126],\n",
    "                      [25486, 1784],\n",
    "                      [37497, 2641],\n",
    "                      [40398, 2766],\n",
    "                      [74105, 5047],\n",
    "                      [76725, 5312],\n",
    "                      [18317, 1215]])\n",
    "\n",
    "stat_en = np.array([[35680, 2217],\n",
    "                      [42514, 2761],\n",
    "                      [15162, 990],\n",
    "                      [35298, 2274],\n",
    "                      [29800, 1865],\n",
    "                      [40255, 2606],\n",
    "                      [74532, 4805],\n",
    "                      [37464, 2396],\n",
    "                      [31030, 1993],\n",
    "                      [24843, 1627],\n",
    "                      [36172, 2375],\n",
    "                      [39552, 2560],\n",
    "                      [72545, 4597],\n",
    "                      [75352, 4871],\n",
    "                      [18031, 1119]])"
   ]
  },
  {
   "cell_type": "markdown",
   "id": "adaptive-backing",
   "metadata": {},
   "source": [
    "From the datasets above, tell what is $\\mathbf{X}$ and $\\mathbf{y}$. Extract:\n",
    "1. The $\\mathbf{X}$ matrix, where you will have a column to model the intercept;\n",
    "2. The $\\mathbf{y}$ vector\n",
    "\n",
    "from these arrays."
   ]
  },
  {
   "cell_type": "code",
   "execution_count": 39,
   "id": "attached-aluminum",
   "metadata": {},
   "outputs": [],
   "source": [
    "# Write your code here\n",
    "stat = stat_en\n",
    "X = stat[:, 1]\n",
    "y = stat[:, 0]"
   ]
  },
  {
   "cell_type": "markdown",
   "id": "cross-neighborhood",
   "metadata": {},
   "source": [
    "Scale the arrays so that they fit in the range [0, 1] on the $x$ and $y$ axes. "
   ]
  },
  {
   "cell_type": "code",
   "execution_count": 40,
   "id": "sudden-decision",
   "metadata": {},
   "outputs": [],
   "source": [
    "# Write your code here\n",
    "X = X / np.amax(X)\n",
    "y = y / np.amax(y)"
   ]
  },
  {
   "cell_type": "markdown",
   "id": "motivated-upset",
   "metadata": {},
   "source": [
    "#### Gradient descent"
   ]
  },
  {
   "cell_type": "markdown",
   "id": "careful-supplier",
   "metadata": {},
   "source": [
    "Implement the descent functions. You will pass `X`, `y`, the learning rate in the $\\alpha$ variable, the initial weight vector in `w`, the tolerance in the $\\epsilon$ variable, the maximal number of epochs in `epochs`. You will return `w`."
   ]
  },
  {
   "cell_type": "markdown",
   "id": "internal-luther",
   "metadata": {},
   "source": [
    "Batch descent"
   ]
  },
  {
   "cell_type": "code",
   "execution_count": 41,
   "id": "planned-italy",
   "metadata": {},
   "outputs": [],
   "source": [
    "# Write your code here\n",
    "def fit_batch(X, y, alpha, w,\n",
    "                  epochs=500,\n",
    "                  epsilon=1.0e-5):\n",
    "    w = np.array(w)\n",
    "    epoch = 1\n",
    "    error = 10000\n",
    "    \n",
    "    while error > epsilon and epoch <= epochs:\n",
    "        (b, m) = w\n",
    "        y_pred = m*X + b\n",
    "\n",
    "        loss_m = sum(X * (y - y_pred))  \n",
    "        loss_b = sum(y - y_pred)  \n",
    "\n",
    "        m = m + (alpha / len(y)) * loss_m \n",
    "        b = b + (alpha / len(y)) * loss_b \n",
    "\n",
    "        epoch += 1\n",
    "        error = np.linalg.norm(y - y_pred)\n",
    "        w = (b, m)\n",
    "\n",
    "    print('stopped at Error:', error, 'Epoch:', epoch)\n",
    "    return w\n",
    "\n"
   ]
  },
  {
   "cell_type": "markdown",
   "id": "french-sight",
   "metadata": {},
   "source": [
    "Stochastic descent"
   ]
  },
  {
   "cell_type": "code",
   "execution_count": 42,
   "id": "emerging-vegetation",
   "metadata": {},
   "outputs": [],
   "source": [
    "# Write your code here\n",
    "def fit_stoch(X, y, alpha, w,\n",
    "                  epochs=500,\n",
    "                  epsilon=1.0e-5):\n",
    "    epoch = 1\n",
    "    error = 10000\n",
    "    idx = list(range(len(X)))\n",
    "    while error > epsilon and epoch <= epochs:\n",
    "        errors = []\n",
    "        random.shuffle(idx)\n",
    "        for i in idx:\n",
    "            x = x[i]\n",
    "            y_i = y[i]\n",
    "            \n",
    "            (b, m) = w\n",
    "            y_i_pred = m*x + b\n",
    "\n",
    "            loss_m = x * (y_i - y_i_pred)  \n",
    "            loss_b = y_i - y_i_pred  \n",
    "\n",
    "            m = m + alpha * loss_m \n",
    "            b = b + alpha * loss_b \n",
    "\n",
    "            y_pred = m*X + b\n",
    "            error = np.linalg.norm(y - y_pred)\n",
    "            w = (b, m)\n",
    "            \n",
    "        # error = np.linalg.norm(errors)\n",
    "        epoch += 1\n",
    "    print('error', error, 'epoch', epoch)\n",
    "    return w\n",
    "\n"
   ]
  },
  {
   "cell_type": "markdown",
   "id": "junior-kazakhstan",
   "metadata": {},
   "source": [
    "#### Applying batch descent"
   ]
  },
  {
   "cell_type": "markdown",
   "id": "treated-assets",
   "metadata": {},
   "source": [
    "Apply the batch descent and print the final weight values "
   ]
  },
  {
   "cell_type": "code",
   "execution_count": 43,
   "id": "maritime-andorra",
   "metadata": {},
   "outputs": [
    {
     "name": "stdout",
     "output_type": "stream",
     "text": [
      "stopped at Error: 0.61869910229575 Epoch: 501\n"
     ]
    }
   ],
   "source": [
    "(b, m) = fit_batch(X, y, 0.01, [random.random(), random.random()])"
   ]
  },
  {
   "cell_type": "markdown",
   "id": "virgin-blast",
   "metadata": {},
   "source": [
    "Visualize the points of your dataset as well as the regression lines you obtain using matplotlib or another similar program."
   ]
  },
  {
   "cell_type": "code",
   "execution_count": 44,
   "id": "d2ebccf2",
   "metadata": {},
   "outputs": [
    {
     "data": {
      "image/png": "[encoded data removed]",
      "text/plain": [
       "<Figure size 432x288 with 1 Axes>"
      ]
     },
     "metadata": {
      "needs_background": "light"
     },
     "output_type": "display_data"
    }
   ],
   "source": [
    "Y_pred = m*X + b\n",
    "\n",
    "plt.scatter(X, y) \n",
    "plt.plot([min(X), max(X)], [min(Y_pred), max(Y_pred)], color='red')  # regression line\n",
    "plt.show()"
   ]
  },
  {
   "cell_type": "markdown",
   "id": "consistent-tampa",
   "metadata": {},
   "source": [
    "#### Stochastic descent"
   ]
  },
  {
   "cell_type": "code",
   "execution_count": 45,
   "id": "distinct-cruise",
   "metadata": {},
   "outputs": [
    {
     "ename": "UnboundLocalError",
     "evalue": "local variable 'x' referenced before assignment",
     "output_type": "error",
     "traceback": [
      "\u001b[0;31m---------------------------------------------------------------------------\u001b[0m",
      "\u001b[0;31mUnboundLocalError\u001b[0m                         Traceback (most recent call last)",
      "\u001b[0;32m/var/folders/wx/q78wj7fd5zggcg7ksls72sfw0000gn/T/ipykernel_18838/4207030172.py\u001b[0m in \u001b[0;36m<module>\u001b[0;34m\u001b[0m\n\u001b[0;32m----> 1\u001b[0;31m \u001b[0;34m(\u001b[0m\u001b[0mb\u001b[0m\u001b[0;34m,\u001b[0m \u001b[0mm\u001b[0m\u001b[0;34m)\u001b[0m \u001b[0;34m=\u001b[0m \u001b[0mfit_stoch\u001b[0m\u001b[0;34m(\u001b[0m\u001b[0mX\u001b[0m\u001b[0;34m,\u001b[0m \u001b[0my\u001b[0m\u001b[0;34m,\u001b[0m \u001b[0;36m0.01\u001b[0m\u001b[0;34m,\u001b[0m \u001b[0;34m[\u001b[0m\u001b[0mrandom\u001b[0m\u001b[0;34m.\u001b[0m\u001b[0mrandom\u001b[0m\u001b[0;34m(\u001b[0m\u001b[0;34m)\u001b[0m\u001b[0;34m,\u001b[0m \u001b[0mrandom\u001b[0m\u001b[0;34m.\u001b[0m\u001b[0mrandom\u001b[0m\u001b[0;34m(\u001b[0m\u001b[0;34m)\u001b[0m\u001b[0;34m]\u001b[0m\u001b[0;34m)\u001b[0m\u001b[0;34m\u001b[0m\u001b[0;34m\u001b[0m\u001b[0m\n\u001b[0m",
      "\u001b[0;32m/var/folders/wx/q78wj7fd5zggcg7ksls72sfw0000gn/T/ipykernel_18838/3892064397.py\u001b[0m in \u001b[0;36mfit_stoch\u001b[0;34m(X, y, alpha, w, epochs, epsilon)\u001b[0m\n\u001b[1;32m     10\u001b[0m         \u001b[0mrandom\u001b[0m\u001b[0;34m.\u001b[0m\u001b[0mshuffle\u001b[0m\u001b[0;34m(\u001b[0m\u001b[0midx\u001b[0m\u001b[0;34m)\u001b[0m\u001b[0;34m\u001b[0m\u001b[0;34m\u001b[0m\u001b[0m\n\u001b[1;32m     11\u001b[0m         \u001b[0;32mfor\u001b[0m \u001b[0mi\u001b[0m \u001b[0;32min\u001b[0m \u001b[0midx\u001b[0m\u001b[0;34m:\u001b[0m\u001b[0;34m\u001b[0m\u001b[0;34m\u001b[0m\u001b[0m\n\u001b[0;32m---> 12\u001b[0;31m             \u001b[0mx\u001b[0m \u001b[0;34m=\u001b[0m \u001b[0mx\u001b[0m\u001b[0;34m[\u001b[0m\u001b[0mi\u001b[0m\u001b[0;34m]\u001b[0m\u001b[0;34m\u001b[0m\u001b[0;34m\u001b[0m\u001b[0m\n\u001b[0m\u001b[1;32m     13\u001b[0m             \u001b[0my_i\u001b[0m \u001b[0;34m=\u001b[0m \u001b[0my\u001b[0m\u001b[0;34m[\u001b[0m\u001b[0mi\u001b[0m\u001b[0;34m]\u001b[0m\u001b[0;34m\u001b[0m\u001b[0;34m\u001b[0m\u001b[0m\n\u001b[1;32m     14\u001b[0m \u001b[0;34m\u001b[0m\u001b[0m\n",
      "\u001b[0;31mUnboundLocalError\u001b[0m: local variable 'x' referenced before assignment"
     ]
    }
   ],
   "source": [
    "(b, m) = fit_stoch(X, y, 0.01, [random.random(), random.random()])"
   ]
  },
  {
   "cell_type": "markdown",
   "id": "fuzzy-circular",
   "metadata": {},
   "source": [
    "Visualize the points of your dataset as well as the regression lines you obtain using matplotlib or another similar program."
   ]
  },
  {
   "cell_type": "code",
   "execution_count": null,
   "id": "illegal-steps",
   "metadata": {},
   "outputs": [
    {
     "data": {
      "image/png": "[encoded data removed]",
      "text/plain": [
       "<Figure size 432x288 with 1 Axes>"
      ]
     },
     "metadata": {
      "needs_background": "light"
     },
     "output_type": "display_data"
    }
   ],
   "source": [
    "Y_pred = m*X + b\n",
    "\n",
    "plt.scatter(X, y) \n",
    "plt.plot([min(X), max(X)], [min(Y_pred), max(Y_pred)], color='red')  # regression line\n",
    "plt.show()"
   ]
  },
  {
   "cell_type": "markdown",
   "id": "biological-assignment",
   "metadata": {},
   "source": [
    "### A solution to linear regression\n",
    "\n",
    "To help you start this assignment, your instructor wrote two Python notebooks that solve this exercise on linear regression. You can find them here: https://github.com/pnugues/ilppp/tree/master/programs/ch04/python\n",
    "The first notebook, `gradient_descent.ipynb`, only uses Python and vector operations such as the dot product that are in the `vector.py` file.\n",
    "The second notebook, `gradient_descent_numpy.ipynb`, uses Numpy. It is more compact, but you need to know a bit of numpy.\n",
    "\n",
    "To run these programs, download them on your computer as well as the other program in the import list: vector.py\n",
    "\n",
    "The programs are also available as Python programs from\n",
    "https://github.com/pnugues/ilppp/tree/master/programs/ch04/python"
   ]
  },
  {
   "cell_type": "markdown",
   "id": "suspended-province",
   "metadata": {},
   "source": [
    "## Classification\n",
    "You will use the same data set as for linear regression, but this time to classify a chapter as French or English. Given a pair of numbers corresponding the letter count and count of _A_, you will predict the language:\n",
    "1. $\\mathbf{x} = (35680, 2217)$ $\\to$ $y$ = English\n",
    "2. $\\mathbf{x} = (37497, 2641)$ $\\to$ $y$ = French"
   ]
  },
  {
   "cell_type": "markdown",
   "id": "joint-psychology",
   "metadata": {},
   "source": [
    "### The dataset\n",
    "You will use the arrays below:\n",
    "1. `X` contains the counts of letters and of _A_ s as well as a column of ones for the intercept;\n",
    "2. `y` contains the classes, where 0 is for English and 1 for French."
   ]
  },
  {
   "cell_type": "code",
   "execution_count": 68,
   "id": "sustainable-payment",
   "metadata": {},
   "outputs": [],
   "source": [
    "X = [[1.0, 35680.0, 2217.0],\n",
    "     [1.0, 42514.0, 2761.0],\n",
    "     [1.0, 15162.0, 990.0],\n",
    "     [1.0, 35298.0, 2274.0],\n",
    "     [1.0, 29800.0, 1865.0],\n",
    "     [1.0, 40255.0, 2606.0],\n",
    "     [1.0, 74532.0, 4805.0],\n",
    "     [1.0, 37464.0, 2396.0],\n",
    "     [1.0, 31030.0, 1993.0],\n",
    "     [1.0, 24843.0, 1627.0],\n",
    "     [1.0, 36172.0, 2375.0],\n",
    "     [1.0, 39552.0, 2560.0],\n",
    "     [1.0, 72545.0, 4597.0],\n",
    "     [1.0, 75352.0, 4871.0],\n",
    "     [1.0, 18031.0, 1119.0],\n",
    "     [1.0, 36961.0, 2503.0],\n",
    "     [1.0, 43621.0, 2992.0],\n",
    "     [1.0, 15694.0, 1042.0],\n",
    "     [1.0, 36231.0, 2487.0],\n",
    "     [1.0, 29945.0, 2014.0],\n",
    "     [1.0, 40588.0, 2805.0],\n",
    "     [1.0, 75255.0, 5062.0],\n",
    "     [1.0, 37709.0, 2643.0],\n",
    "     [1.0, 30899.0, 2126.0],\n",
    "     [1.0, 25486.0, 1784.0],\n",
    "     [1.0, 37497.0, 2641.0],\n",
    "     [1.0, 40398.0, 2766.0],\n",
    "     [1.0, 74105.0, 5047.0],\n",
    "     [1.0, 76725.0, 5312.0],\n",
    "     [1.0, 18317.0, 1215.0]]\n",
    "y = [0.0, 0.0, 0.0, 0.0, 0.0, 0.0, 0.0, 0.0, 0.0, 0.0, 0.0, 0.0, 0.0, 0.0, 0.0,\n",
    "     1.0, 1.0, 1.0, 1.0, 1.0, 1.0, 1.0, 1.0, 1.0, 1.0, 1.0, 1.0, 1.0, 1.0, 1.0]"
   ]
  },
  {
   "cell_type": "markdown",
   "id": "emerging-looking",
   "metadata": {},
   "source": [
    "We visualize it"
   ]
  },
  {
   "cell_type": "code",
   "execution_count": 59,
   "id": "verified-bridal",
   "metadata": {},
   "outputs": [],
   "source": [
    "x_fr = [x[1] for i, x in enumerate(X) if y[i] == 1]\n",
    "y_fr = [x[2] for i, x in enumerate(X) if y[i] == 1]\n",
    "x_en = [x[1] for i, x in enumerate(X) if y[i] == 0]\n",
    "y_en = [x[2] for i, x in enumerate(X) if y[i] == 0]"
   ]
  },
  {
   "cell_type": "code",
   "execution_count": 60,
   "id": "constitutional-carry",
   "metadata": {},
   "outputs": [
    {
     "data": {
      "text/plain": [
       "<matplotlib.collections.PathCollection at 0x12c436dc0>"
      ]
     },
     "execution_count": 60,
     "metadata": {},
     "output_type": "execute_result"
    },
    {
     "data": {
      "image/png": "[encoded data removed]",
      "text/plain": [
       "<Figure size 432x288 with 1 Axes>"
      ]
     },
     "metadata": {
      "needs_background": "light"
     },
     "output_type": "display_data"
    }
   ],
   "source": [
    "plt.scatter(x_fr, y_fr, color='red')\n",
    "plt.scatter(x_en, y_en, color='blue')"
   ]
  },
  {
   "cell_type": "markdown",
   "id": "mineral-pointer",
   "metadata": {},
   "source": [
    "### Normalize the dataset"
   ]
  },
  {
   "cell_type": "markdown",
   "id": "imported-reporter",
   "metadata": {},
   "source": [
    "Gradient descent algorithms can be very sensitive to the range. Therefore, we normalize the dataset."
   ]
  },
  {
   "cell_type": "code",
   "execution_count": 61,
   "id": "adequate-words",
   "metadata": {},
   "outputs": [],
   "source": [
    "def normalize(observations):\n",
    "    maxima = [max([obs[i] for obs in observations]) for i in range(len(observations[0]))]\n",
    "    return ([[obs[i] / maxima[i]\n",
    "              for i in range(len(observations[0]))] for obs in observations],\n",
    "            maxima)"
   ]
  },
  {
   "cell_type": "code",
   "execution_count": 62,
   "id": "conservative-effectiveness",
   "metadata": {},
   "outputs": [
    {
     "data": {
      "text/plain": [
       "[[1.0, 0.4650374714890844, 0.4173569277108434],\n",
       " [1.0, 0.5541088302378625, 0.5197665662650602],\n",
       " [1.0, 0.19761485826001954, 0.18637048192771086],\n",
       " [1.0, 0.460058651026393, 0.42808734939759036],\n",
       " [1.0, 0.3884001303356142, 0.3510918674698795],\n",
       " [1.0, 0.5246660149885957, 0.49058734939759036],\n",
       " [1.0, 0.9714173998044966, 0.9045557228915663],\n",
       " [1.0, 0.4882893450635386, 0.4510542168674699],\n",
       " [1.0, 0.4044314108830238, 0.37518825301204817],\n",
       " [1.0, 0.32379276637341153, 0.30628765060240964],\n",
       " [1.0, 0.47144998370804825, 0.4471009036144578],\n",
       " [1.0, 0.5155034213098729, 0.4819277108433735],\n",
       " [1.0, 0.9455197132616487, 0.8653990963855421],\n",
       " [1.0, 0.9821049201694363, 0.916980421686747],\n",
       " [1.0, 0.2350081459758879, 0.21065512048192772],\n",
       " [1.0, 0.48173346366894754, 0.4711972891566265],\n",
       " [1.0, 0.5685369827305311, 0.5632530120481928],\n",
       " [1.0, 0.2045487129358097, 0.19615963855421686],\n",
       " [1.0, 0.47221896383186707, 0.46818524096385544],\n",
       " [1.0, 0.39028999674160963, 0.37914156626506024],\n",
       " [1.0, 0.5290061909416748, 0.5280496987951807],\n",
       " [1.0, 0.9808406647116324, 0.9529367469879518],\n",
       " [1.0, 0.49148256761159986, 0.4975527108433735],\n",
       " [1.0, 0.40272401433691757, 0.4002259036144578],\n",
       " [1.0, 0.3321733463668948, 0.3358433734939759],\n",
       " [1.0, 0.4887194525904203, 0.4971762048192771],\n",
       " [1.0, 0.5265298142717497, 0.5207078313253012],\n",
       " [1.0, 0.9658520690778756, 0.9501129518072289],\n",
       " [1.0, 1.0, 1.0],\n",
       " [1.0, 0.23873574454219615, 0.22872740963855423]]"
      ]
     },
     "execution_count": 62,
     "metadata": {},
     "output_type": "execute_result"
    }
   ],
   "source": [
    "X_norm, maxima = normalize(X)\n",
    "X_norm"
   ]
  },
  {
   "cell_type": "markdown",
   "id": "attached-reverse",
   "metadata": {},
   "source": [
    "## The Perceptron\n",
    "\n",
    "1. Write the perceptron program as explained in pages 723--725 in Russell-Norvig and in the slides and run it on your data set. As suggested program structure, use two functions: \n",
    " * `fit(X, y)` that will return `w` (the model). You can choose a stochastic or batch variant;\n",
    " * `predict(X, w)` that will return `y_hat`. You can encapsulate these functions in a class and, of course, add more parameters.\n",
    "2. As a stop criterion, you will use the number of misclassified examples.\n",
    "3. You will report the parameters you have used and the weight vector\n",
    "\n",
    "You can use numpy or not. The next cells are just suggested steps. You can implement it your way."
   ]
  },
  {
   "cell_type": "markdown",
   "id": "applicable-missouri",
   "metadata": {},
   "source": [
    "### The `predict(X, w)` function\n",
    "Write a `predict(X, w)` function that given a matrix of observations $\\mathbf{X}$ and a weight vector $\\mathbf{w}$ will return a $\\mathbf{\\hat{y}}$ vector classes (0 or 1)"
   ]
  },
  {
   "cell_type": "code",
   "execution_count": 97,
   "id": "demanding-stage",
   "metadata": {},
   "outputs": [],
   "source": [
    "# Write your code here\n",
    "def predict(X, w):\n",
    "    y_pred = np.matmul(w, X)\n",
    "    if y_pred >= 0:\n",
    "        return 1\n",
    "    else:\n",
    "        return 0\n",
    "    # # Sigmoid activation\n",
    "    # return 1.0 / (1.0 + math.exp(y))"
   ]
  },
  {
   "cell_type": "markdown",
   "id": "choice-morgan",
   "metadata": {},
   "source": [
    "### The `fit(X, y)` function"
   ]
  },
  {
   "cell_type": "markdown",
   "id": "documented-cartridge",
   "metadata": {},
   "source": [
    "Write a `fit(X, y)` function that given a matrix of observations $\\mathbf{X}$ and a vector of responses $\\mathbf{y}$ will return a weight $\\mathbf{w}$ vector. You may use the other arguments of the function, notably the number of misclassified examples to define the stop condition."
   ]
  },
  {
   "cell_type": "code",
   "execution_count": 132,
   "id": "therapeutic-balloon",
   "metadata": {},
   "outputs": [],
   "source": [
    "# Write your code here\n",
    "import random\n",
    "import vector\n",
    "def fit_stoch(X, y,\n",
    "              alpha=0.01,\n",
    "              epochs=1000,\n",
    "              max_misclassified=0,\n",
    "              verbose=True):\n",
    "    epoch = 1\n",
    "    misclassified = 0\n",
    "    correct_classified = 0\n",
    "\n",
    "    idx = list(range(len(X)))\n",
    "    w = [random.random() for _ in range(len(X[0]))]\n",
    "    \n",
    "    while epoch <= epochs:\n",
    "        if max_misclassified != 0:\n",
    "            if misclassified > max_misclassified:\n",
    "                break\n",
    "\n",
    "        random.shuffle(idx)\n",
    "\n",
    "        for i in idx:\n",
    "            x_i = X[i]\n",
    "            y_i = y[i]\n",
    "            \n",
    "            y_i_pred = predict(x_i, w)\n",
    "            error = (y_i - y_i_pred)\n",
    "\n",
    "            for j in range(len(w)):\n",
    "                w_j = w[j]\n",
    "                x_j = x_i[j]\n",
    "                # print('w_j', w_j, 'alpha', alpha, 'error', error, 'x_i', x_j)\n",
    "                w[j] += alpha*(error)*x_j\n",
    "\n",
    "            if abs(error):\n",
    "                misclassified += 1\n",
    "            else:\n",
    "                correct_classified += 1\n",
    "            \n",
    "        epoch += 1\n",
    "        \n",
    "    # print('misclassified', misclassified, 'correct_classified', correct_classified, 'epoch', epoch)\n",
    "    return w\n",
    "\n",
    " "
   ]
  },
  {
   "cell_type": "markdown",
   "id": "accessory-graduate",
   "metadata": {},
   "source": [
    "### Fitting the dataset"
   ]
  },
  {
   "cell_type": "code",
   "execution_count": 133,
   "id": "reported-uniform",
   "metadata": {},
   "outputs": [
    {
     "data": {
      "text/plain": [
       "[0.00560253947884755, -0.49586896680498704, 0.5165683279320079]"
      ]
     },
     "execution_count": 133,
     "metadata": {},
     "output_type": "execute_result"
    }
   ],
   "source": [
    "w = fit_stoch(X_norm, y)\n",
    "w"
   ]
  },
  {
   "cell_type": "code",
   "execution_count": 134,
   "id": "formal-bahamas",
   "metadata": {},
   "outputs": [
    {
     "name": "stdout",
     "output_type": "stream",
     "text": [
      "Restored weights [29.760689711638186, -0.03433113003151634, 0.5165683279320079]\n",
      "Weights with y set to 1 [57.61230044973908, -0.06645999798120626, 1.0]\n"
     ]
    }
   ],
   "source": [
    "w = [w[i] * maxima[-1] / maxima[i] for i in range(len(w))]\n",
    "print(\"Restored weights\", w)\n",
    "w = [w[j] / w[-1] for j in range(len(w))]\n",
    "print(\"Weights with y set to 1\", w)"
   ]
  },
  {
   "cell_type": "markdown",
   "id": "demographic-control",
   "metadata": {},
   "source": [
    "### Visualizing the results"
   ]
  },
  {
   "cell_type": "code",
   "execution_count": 135,
   "id": "forward-enclosure",
   "metadata": {},
   "outputs": [
    {
     "data": {
      "text/plain": [
       "[<matplotlib.lines.Line2D at 0x12c537af0>]"
      ]
     },
     "execution_count": 135,
     "metadata": {},
     "output_type": "execute_result"
    },
    {
     "data": {
      "image/png": "[encoded data removed]",
      "text/plain": [
       "<Figure size 432x288 with 1 Axes>"
      ]
     },
     "metadata": {
      "needs_background": "light"
     },
     "output_type": "display_data"
    }
   ],
   "source": [
    "plt.scatter(x_fr, y_fr, color='red')\n",
    "plt.scatter(x_en, y_en, color='blue')\n",
    "plt.plot([min(x_fr + x_en), max(x_fr + x_en)],\n",
    "             [-w[1] * min(x_fr + x_en) - w[0], -w[1] * max(x_fr + x_en) - w[0]])"
   ]
  },
  {
   "cell_type": "markdown",
   "id": "eleven-honolulu",
   "metadata": {},
   "source": [
    "### Evaluation\n",
    "Evaluate your perceptron using the leave-one-out cross validation method. You will have to train and run 30 models. In each train/run session, you will train on 29 samples and evaluate on the remaining sample. You have then either a correct or a wrong classification. You will sum these classifications, i.e. the number of correct classifications, to get your final evaluation, for instance 29/30."
   ]
  },
  {
   "cell_type": "code",
   "execution_count": 155,
   "id": "patent-leeds",
   "metadata": {},
   "outputs": [],
   "source": [
    "# Write your code here\n",
    "def leave_one_out_cross_val(X, y, fitting_function):\n",
    "    n = len(X)\n",
    "    n_correct = 0\n",
    "\n",
    "    for fold in range(n):\n",
    "        X_train = X[:fold] + X[:fold +1]\n",
    "        X_test = X[fold]\n",
    "\n",
    "        y_train = y[:fold] + y[:fold +1]\n",
    "        y_test = y[fold]\n",
    "\n",
    "        w = fit_stoch(X_train, y_train)\n",
    "\n",
    "        y_pred = predict(X_test, w)\n",
    "        correct = not abs(y_test - y_pred)\n",
    "        n_correct += correct\n",
    "\n",
    "        print('Fold', fold+1, 'on', n, ': weights:', w, 'Correct.' if correct else 'Wrong.')\n",
    "        # print('Fold', fold, 'on 30: epochs:', epochs, 'weights:', w)\n",
    "    print(n_correct, n)\n",
    "    return n_correct / n"
   ]
  },
  {
   "cell_type": "code",
   "execution_count": 156,
   "id": "continuing-archive",
   "metadata": {},
   "outputs": [
    {
     "name": "stdout",
     "output_type": "stream",
     "text": [
      "Fold 1 on 30 : weights: [0.0718483420064939, -0.21923978712739076, 0.06687120368535726] Correct.\n",
      "Fold 2 on 30 : weights: [-0.2522963482193903, 0.5499356495500848, -0.1251506232165039] Correct.\n",
      "Fold 3 on 30 : weights: [-0.36282367048226943, 0.23226268363031966, 0.44122452259405] Correct.\n",
      "Fold 4 on 30 : weights: [0.062029955620419554, -0.10369350503504161, -0.2440426686032987] Correct.\n",
      "Fold 5 on 30 : weights: [0.04431315910747158, -0.1553730782864957, -0.10465762370303716] Correct.\n",
      "Fold 6 on 30 : weights: [-0.36497452981118933, 0.4229250224340099, 0.2313351716389691] Correct.\n",
      "Fold 7 on 30 : weights: [-0.5937123838853552, 0.4710741234880804, 0.13965579829608912] Correct.\n",
      "Fold 8 on 30 : weights: [0.040511072497044213, -0.17213171910031172, -0.09102501453538187] Correct.\n",
      "Fold 9 on 30 : weights: [-0.10726404204242942, 0.11940662760129542, -0.009827728750703625] Correct.\n",
      "Fold 10 on 30 : weights: [-0.5526673626011097, 0.32723662432025724, 0.2414751677615629] Correct.\n",
      "Fold 11 on 30 : weights: [-0.5578301934736646, 0.2481401206192081, 0.34762741131149094] Correct.\n",
      "Fold 12 on 30 : weights: [-0.2601646299675117, 0.10837452355072236, 0.1604257762798632] Correct.\n",
      "Fold 13 on 30 : weights: [0.039072750878755495, -0.22742096263377545, 0.003246590091868222] Correct.\n",
      "Fold 14 on 30 : weights: [-0.12342010388639331, -0.09196701607685746, 0.2175339725528395] Correct.\n",
      "Fold 15 on 30 : weights: [-0.3062637375381027, 0.2249757969139501, 0.06408845234235797] Correct.\n",
      "Fold 16 on 30 : weights: [-0.004958373557412552, -0.034911280662436046, 0.03628478026645034] Wrong.\n",
      "Fold 17 on 30 : weights: [-0.008289820171782663, -0.18087422858885002, 0.20268829581412742] Correct.\n",
      "Fold 18 on 30 : weights: [0.0011290537102184618, -0.1313189306396371, 0.1324463414071871] Correct.\n",
      "Fold 19 on 30 : weights: [-0.005470071487113055, -0.5917664873415859, 0.6095392970690072] Correct.\n",
      "Fold 20 on 30 : weights: [0.0014546984548109744, -0.2053189701519506, 0.20906909150913108] Correct.\n",
      "Fold 21 on 30 : weights: [-0.00396929213095518, -0.5468727994995185, 0.561303332337728] Correct.\n",
      "Fold 22 on 30 : weights: [-0.0002549171503721491, -0.2950263901076758, 0.3107936805771697] Correct.\n",
      "Fold 23 on 30 : weights: [-0.0014019205460266936, -0.3840606697931049, 0.4078463635081741] Correct.\n",
      "Fold 24 on 30 : weights: [0.0016556987577520978, -0.2484216404268481, 0.25446079995574145] Correct.\n",
      "Fold 25 on 30 : weights: [-0.0019024824256262639, -0.5003219505292964, 0.5317591117441494] Correct.\n",
      "Fold 26 on 30 : weights: [-0.001534934938631636, -0.42757016577005075, 0.45415106141532907] Correct.\n",
      "Fold 27 on 30 : weights: [0.00015160461204169126, -0.11670042513026005, 0.12110178094256217] Correct.\n",
      "Fold 28 on 30 : weights: [0.004348340479236077, -0.5845834664093675, 0.6185975916157601] Correct.\n",
      "Fold 29 on 30 : weights: [7.100936178220177e-05, -0.13168372617249505, 0.13761076540550793] Correct.\n",
      "Fold 30 on 30 : weights: [0.005133540640795202, -0.6883754943440604, 0.7186838350956605] Correct.\n",
      "29 30\n",
      "Cross-validation accuracy (stochastic): 0.9666666666666667\n"
     ]
    }
   ],
   "source": [
    "stoch_accuracy = leave_one_out_cross_val(X_norm, y, fit_stoch)\n",
    "print('Cross-validation accuracy (stochastic):', stoch_accuracy)"
   ]
  },
  {
   "cell_type": "markdown",
   "id": "toxic-score",
   "metadata": {},
   "source": [
    "## Logistic Regression\n",
    "From your perceptron program, implement logistic regression. You can either follow the description from the textbook, S. Russell and R. Norvig, _Artificial Intelligence_, 2010, pages 725--727, or the slides. You can either implement the stochastic or the batch version of the algorithm, or both versions. As stop criterion, you will use either the norm of the gradient or the norm of the difference between two consecutive weight vectors. You will also set a maximal number of epochs. Run the resulting program on your data set."
   ]
  },
  {
   "cell_type": "markdown",
   "id": "variable-albania",
   "metadata": {},
   "source": [
    "Write the logistic function, where the $x$ input is a real number."
   ]
  },
  {
   "cell_type": "code",
   "execution_count": null,
   "id": "secret-orbit",
   "metadata": {},
   "outputs": [],
   "source": [
    "# Write your code here\n",
    "def logistic(x):\n"
   ]
  },
  {
   "cell_type": "markdown",
   "id": "atmospheric-payroll",
   "metadata": {},
   "source": [
    "### The `predict(X, w)` function"
   ]
  },
  {
   "cell_type": "markdown",
   "id": "motivated-mustang",
   "metadata": {},
   "source": [
    "Write a `predict_proba()` function that given a matrix of observations $\\mathbf{X}$ and a weight vector $\\mathbf{w}$ will return a vector of probabilities to belong to class 1: The vector will consist of $P(1|\\mathbf{x}_i)$ for all the $i$ rows of $\\mathbf{X}$."
   ]
  },
  {
   "cell_type": "code",
   "execution_count": null,
   "id": "genuine-sharing",
   "metadata": {},
   "outputs": [],
   "source": [
    "# Write your code here\n",
    "def predict_proba(X, w):\n"
   ]
  },
  {
   "cell_type": "markdown",
   "id": "front-salad",
   "metadata": {},
   "source": [
    "Write a `predict(X, w)` function that given a matrix of observations $\\mathbf{X}$ and a weight vector $\\mathbf{w}$ will return the class. You will use `predict_proba()` and set the threshold to belong to class 1 to 0.5."
   ]
  },
  {
   "cell_type": "code",
   "execution_count": null,
   "id": "historic-intention",
   "metadata": {},
   "outputs": [],
   "source": [
    "# Write your code here\n",
    "def predict(X, w):\n"
   ]
  },
  {
   "cell_type": "markdown",
   "id": "assisted-variation",
   "metadata": {},
   "source": [
    "### The `fit(X, y)` function"
   ]
  },
  {
   "cell_type": "markdown",
   "id": "blind-relation",
   "metadata": {},
   "source": [
    "You will now write the `fit(X, y)` function as with the perceptron. You may call it `fit_stoch(X, y)` or `fit_batch(X, y)`. Use the parameters given in the cell below."
   ]
  },
  {
   "cell_type": "code",
   "execution_count": null,
   "id": "parallel-reynolds",
   "metadata": {},
   "outputs": [],
   "source": [
    "# Write your code here\n",
    "import random\n",
    "def fit_stoch(X, y, alpha=100,\n",
    "              epochs=1000,\n",
    "              epsilon=1.0e-4,\n",
    "              verbose=False):\n"
   ]
  },
  {
   "cell_type": "code",
   "execution_count": null,
   "id": "naughty-sphere",
   "metadata": {},
   "outputs": [
    {
     "name": "stdout",
     "output_type": "stream",
     "text": [
      "Gradient: 0.8902743015225482, Likelihood: 0.0\n",
      "Gradient: 1.2767953760778425, Likelihood: 0.0\n",
      "Gradient: 0.17337891287703808, Likelihood: 0.0\n",
      "Gradient: 1.8754184354933978, Likelihood: 0.0\n",
      "Gradient: 0.773065420028883, Likelihood: 0.0\n",
      "Gradient: 0.9963244000933708, Likelihood: 0.0\n",
      "Gradient: 2.0047473127362023, Likelihood: 0.0\n",
      "Gradient: 1.0666048721165595, Likelihood: 0.0\n",
      "Gradient: 0.3936277286488168, Likelihood: 0.0\n",
      "Gradient: 1.0186582872459728, Likelihood: 0.0\n",
      "Gradient: 0.26724140565679955, Likelihood: 0.0\n",
      "Gradient: 0.5958743113409939, Likelihood: 0.0\n",
      "Gradient: 1.280922047032426, Likelihood: 0.0\n",
      "Gradient: 0.3751924563165801, Likelihood: 0.0\n",
      "Gradient: 1.680887325827724, Likelihood: 0.0\n",
      "Gradient: 0.13280065784383097, Likelihood: 0.0\n",
      "Gradient: 0.6515217304746705, Likelihood: 0.0\n",
      "Gradient: 0.8093105560994706, Likelihood: 0.0\n",
      "Gradient: 1.0274656064491328, Likelihood: 0.0\n",
      "Gradient: 0.6001923364785738, Likelihood: 0.0\n",
      "Gradient: 0.6809528318969105, Likelihood: 8.954760762413439e-90\n",
      "Gradient: 1.0973977073085475, Likelihood: 0.0\n",
      "Gradient: 1.4722135488616623, Likelihood: 1.238388227175208e-195\n",
      "Gradient: 0.6244105222590863, Likelihood: 0.0\n",
      "Gradient: 1.6241679012458399, Likelihood: 0.0\n",
      "Gradient: 0.7110640086992295, Likelihood: 0.0\n",
      "Gradient: 0.8228918512318696, Likelihood: 0.0\n",
      "Gradient: 0.6820227063367889, Likelihood: 0.0\n",
      "Gradient: 0.7239858263352654, Likelihood: 8.876491304749925e-71\n",
      "Gradient: 1.1350285292365256, Likelihood: 0.0\n",
      "Gradient: 0.7077389138761444, Likelihood: 0.0\n",
      "Gradient: 1.3300407306696496, Likelihood: 0.0\n",
      "Gradient: 1.0669347276681298, Likelihood: 0.0\n",
      "Gradient: 0.8785606168878396, Likelihood: 0.0\n",
      "Gradient: 0.8950102640852254, Likelihood: 7.409220523565663e-134\n",
      "Gradient: 1.0054394862596678, Likelihood: 0.0\n",
      "Gradient: 0.819256375942452, Likelihood: 0.0\n",
      "Gradient: 1.0176917350239671, Likelihood: 0.0\n",
      "Gradient: 0.18939327021118024, Likelihood: 0.0\n",
      "Gradient: 1.0076583067893496, Likelihood: 0.0\n",
      "Gradient: 0.2877246866693487, Likelihood: 0.0\n",
      "Gradient: 1.1032800392760203, Likelihood: 1.0914661999129825e-143\n",
      "Gradient: 0.0004347898417448801, Likelihood: 0.9723486858232048\n",
      "Gradient: 0.7662117756950532, Likelihood: 0.0\n",
      "Gradient: 1.563640633857204, Likelihood: 0.0\n",
      "Gradient: 0.2816419477478391, Likelihood: 8.194563490829019e-87\n",
      "Gradient: 0.12550235103490054, Likelihood: 0.0\n",
      "Gradient: 0.07649115244188695, Likelihood: 0.0\n",
      "Gradient: 0.8745577980107281, Likelihood: 0.0\n",
      "Gradient: 0.3705681705774909, Likelihood: 0.0\n",
      "Gradient: 0.0626074725870527, Likelihood: 0.9381303162192345\n",
      "Gradient: 1.4055968658419706, Likelihood: 0.0\n",
      "Gradient: 0.2739873706397646, Likelihood: 4.7727169328207885e-93\n",
      "Gradient: 1.0903118466262165, Likelihood: 0.0\n",
      "Gradient: 1.1618130483644353, Likelihood: 0.0\n",
      "Gradient: 0.46450626652151833, Likelihood: 0.0\n",
      "Gradient: 0.4267826302276612, Likelihood: 7.77156997232004e-07\n",
      "Gradient: 1.0057568290192274, Likelihood: 5.47401479362249e-64\n",
      "Gradient: 1.6372142019633438, Likelihood: 1.791724086267534e-122\n",
      "Gradient: 0.0006513388688921857, Likelihood: 0.9928997298193135\n",
      "epochs: 596, weights: [2.073225839414742, -3769.1505527855234, 3952.204257002531], likelihood: 0.9928324957028026: "
     ]
    },
    {
     "data": {
      "text/plain": [
       "[2.073225839414742, -3769.1505527855234, 3952.204257002531]"
      ]
     },
     "execution_count": 19,
     "metadata": {},
     "output_type": "execute_result"
    }
   ],
   "source": [
    "w = fit_stoch(X_norm, y, verbose=True)\n",
    "w"
   ]
  },
  {
   "cell_type": "code",
   "execution_count": null,
   "id": "experienced-manor",
   "metadata": {},
   "outputs": [
    {
     "name": "stdout",
     "output_type": "stream",
     "text": [
      "Restored weights [2.073225839414742, -0.049125455233437906, 0.7440143556104162]\n",
      "Weights with y set to 1 [2.7865401034013555, -0.06602756366593708, 1.0]\n"
     ]
    }
   ],
   "source": [
    "w = [w[i] / maxima[i] for i in range(len(w))]\n",
    "print(\"Restored weights\", w)\n",
    "w = [w[j] / w[-1] for j in range(len(w))]\n",
    "print(\"Weights with y set to 1\", w)"
   ]
  },
  {
   "cell_type": "markdown",
   "id": "coastal-motion",
   "metadata": {},
   "source": [
    "### Visualizing the results"
   ]
  },
  {
   "cell_type": "code",
   "execution_count": null,
   "id": "illegal-evans",
   "metadata": {},
   "outputs": [
    {
     "data": {
      "image/png": "[encoded data removed]",
      "text/plain": [
       "<Figure size 432x288 with 1 Axes>"
      ]
     },
     "metadata": {
      "needs_background": "light"
     },
     "output_type": "display_data"
    }
   ],
   "source": [
    "plt.scatter(x_fr, y_fr, color='red')\n",
    "plt.scatter(x_en, y_en, color='blue')\n",
    "plt.plot([min(x_fr + x_en), max(x_fr + x_en)],\n",
    "         [-w[1] * min(x_fr + x_en) - w[0], -w[1] * max(x_fr + x_en) - w[0]])\n",
    "plt.show()"
   ]
  },
  {
   "cell_type": "markdown",
   "id": "wireless-value",
   "metadata": {},
   "source": [
    "### Evaluation\n",
    "Evaluate your logistic regression using the leave-one-out cross validation method as with the perceptron"
   ]
  },
  {
   "cell_type": "code",
   "execution_count": null,
   "id": "offensive-trinity",
   "metadata": {},
   "outputs": [],
   "source": [
    "# Write your code here\n",
    "def leave_one_out_cross_val(X, y, fitting_function):\n"
   ]
  },
  {
   "cell_type": "code",
   "execution_count": null,
   "id": "simple-chile",
   "metadata": {},
   "outputs": [
    {
     "name": "stdout",
     "output_type": "stream",
     "text": [
      "Fold 1 on 30: epochs: 145, weights: [-1050.0, -1201000.0, 18175950.0], likelihood: 1.0: Correct.\n",
      "Fold 2 on 30: epochs: 215, weights: [-4650.0, -1865500.0, 28380450.0], likelihood: 1.0: Correct.\n",
      "Fold 3 on 30: epochs: 48, weights: [1050.0, -424100.0, 6404150.0], likelihood: 1.0: Correct.\n",
      "Fold 4 on 30: epochs: 21, weights: [150.0, -173100.0, 2617150.0], likelihood: 1.0: Correct.\n",
      "Fold 5 on 30: epochs: 83, weights: [-1050.0, -692900.0, 10496200.0], likelihood: 1.0: Correct.\n",
      "Fold 6 on 30: epochs: 59, weights: [-1050.0, -519400.0, 7852600.0], likelihood: 1.0: Correct.\n",
      "Fold 7 on 30: epochs: 77, weights: [-6350.0, -644100.0, 9802900.0], likelihood: 1.0: Correct.\n",
      "Fold 8 on 30: epochs: 123, weights: [-2350.0, -1030300.0, 15592100.0], likelihood: 1.0: Correct.\n",
      "Fold 9 on 30: epochs: 50, weights: [-550.0, -406600.0, 6168400.0], likelihood: 1.0: Correct.\n",
      "Fold 10 on 30: epochs: 223, weights: [350.0, -1941100.0, 29519600.0], likelihood: 1.0: Correct.\n",
      "Fold 11 on 30: epochs: 122, weights: [-750.0, -1048900.0, 15840700.0], likelihood: 1.0: Correct.\n",
      "Fold 12 on 30: epochs: 31, weights: [-650.0, -254600.0, 3858500.0], likelihood: 1.0: Correct.\n",
      "Fold 13 on 30: epochs: 162, weights: [-10450.0, -1313300.0, 19895300.0], likelihood: 1.0: Correct.\n",
      "Fold 14 on 30: epochs: 264, weights: [-17250.0, -2190700.0, 33285700.0], likelihood: 1.0: Correct.\n",
      "Fold 15 on 30: epochs: 111, weights: [-650.0, -936600.0, 14237600.0], likelihood: 1.0: Correct.\n",
      "Fold 16 on 30: epochs: 99, weights: [-3150.0, -848600.0, 12853100.0], likelihood: 1.0: Correct.\n",
      "Fold 17 on 30: epochs: 114, weights: [-4150.0, -967700.0, 14652100.0], likelihood: 1.0: Correct.\n",
      "Fold 18 on 30: epochs: 99, weights: [-5250.0, -869100.0, 13179100.0], likelihood: 1.0: Correct.\n",
      "Fold 19 on 30: epochs: 82, weights: [-1450.0, -695300.0, 10555100.0], likelihood: 1.0: Correct.\n",
      "Fold 20 on 30: epochs: 101, weights: [-5150.0, -885300.0, 13377100.0], likelihood: 1.0: Correct.\n",
      "Fold 21 on 30: epochs: 45, weights: [-650.0, -386100.0, 5832400.0], likelihood: 1.0: Correct.\n",
      "Fold 22 on 30: epochs: 33, weights: [50.0, -283600.0, 4287200.0], likelihood: 1.0: Correct.\n",
      "Fold 23 on 30: epochs: 118, weights: [-2850.0, -962900.0, 14609700.0], likelihood: 1.0: Correct.\n",
      "Fold 24 on 30: epochs: 43, weights: [-1050.0, -354500.0, 5364700.0], likelihood: 1.0: Correct.\n",
      "Fold 25 on 30: epochs: 46, weights: [-850.0, -381500.0, 5782500.0], likelihood: 1.0: Correct.\n",
      "Fold 26 on 30: epochs: 158, weights: [-3450.0, -1296100.0, 19651000.0], likelihood: 1.0: Correct.\n",
      "Fold 27 on 30: epochs: 111, weights: [-2050.0, -936300.0, 14245700.0], likelihood: 1.0: Correct.\n",
      "Fold 28 on 30: epochs: 23, weights: [250.0, -171600.0, 2594200.0], likelihood: 1.0: Correct.\n",
      "Fold 29 on 30: epochs: 133, weights: [3450.0, -1071000.0, 16193900.0], likelihood: 1.0: Correct.\n",
      "Fold 30 on 30: epochs: 112, weights: [-6250.0, -976400.0, 14721700.0], likelihood: 1.0: Correct.\n",
      "Cross-validation accuracy (batch): 1.0\n"
     ]
    }
   ],
   "source": [
    "stoch_accuracy = leave_one_out_cross_val(X, y, fit_stoch)\n",
    "print('Cross-validation accuracy (batch):', stoch_accuracy)"
   ]
  },
  {
   "cell_type": "markdown",
   "id": "global-difficulty",
   "metadata": {},
   "source": [
    "## Visualizing the logistic surface"
   ]
  },
  {
   "cell_type": "code",
   "execution_count": null,
   "id": "sunrise-tractor",
   "metadata": {},
   "outputs": [],
   "source": [
    "def plot_logistic_surf(x_range, y_range, w_opt):\n",
    "    z_axis = np.array([[0.0] * len(y_range) for i in range(len(x_range))])\n",
    "    x_axis, y_axis = np.meshgrid(x_range, y_range)\n",
    "    z_axis = z_axis.reshape(x_axis.shape)\n",
    "\n",
    "    # We compute the probability surface as a function of x and y\n",
    "    for i in range(len(x_range)):\n",
    "        for j in range(len(y_range)):\n",
    "            z_axis[j, i] = logistic(np.dot([1, x_range[i], y_range[j]], w_opt))\n",
    "    return x_axis, y_axis, z_axis"
   ]
  },
  {
   "cell_type": "code",
   "execution_count": null,
   "id": "confirmed-plastic",
   "metadata": {},
   "outputs": [
    {
     "data": {
      "image/png": "[encoded data removed]",
      "text/plain": [
       "<Figure size 432x288 with 2 Axes>"
      ]
     },
     "metadata": {
      "needs_background": "light"
     },
     "output_type": "display_data"
    }
   ],
   "source": [
    "x_range = np.linspace(0, 100000, 200)\n",
    "y_range = np.linspace(0, 10000, 200)\n",
    "#w = [2.073225839414742, -0.049125455233437906, 0.7440143556104162]\n",
    "\n",
    "x_axis, y_axis, z_axis = plot_logistic_surf(x_range, y_range, w)\n",
    "\n",
    "fig = plt.figure()\n",
    "ax = Axes3D(fig)\n",
    "# ax = fig.gca(projection='3d')\n",
    "\n",
    "surf = ax.plot_surface(y_axis, x_axis, z_axis, rstride=1, cstride=1, cmap=cm.coolwarm,\n",
    "                       linewidth=0, antialiased=False, alpha=0.2)\n",
    "fig.colorbar(surf, shrink=0.5, aspect=5)\n",
    "# We plot the observations\n",
    "for x, y_class in zip(X, y):\n",
    "    if y_class == 1:\n",
    "        ax.scatter(x[2], x[1], y_class, color='green', marker='x')\n",
    "    else:\n",
    "        ax.scatter(x[2], x[1], y_class, color='red', marker='x')\n",
    "\n",
    "ax.elev = 30 \n",
    "ax.azim = -150\n",
    "plt.show()"
   ]
  },
  {
   "cell_type": "markdown",
   "id": "acoustic-ideal",
   "metadata": {},
   "source": [
    "## Programming logistic regression with popular APIs\n",
    "Should you use logistic regression in a project, you will probably resort to existing libraries. In the next cells, you will apply the logistic regression classification with two popular APIs:\n",
    "1. sklearn\n",
    "2. Keras\n",
    "\n",
    "`sklearn` is included in anaconda.\n",
    "You will install the rest with:\n",
    "```\n",
    "pip install --upgrade keras tensorflow tensorflow-addons \n",
    "```\n",
    "You will read and run the code in the cells below."
   ]
  },
  {
   "cell_type": "markdown",
   "id": "synthetic-karma",
   "metadata": {},
   "source": [
    "All these APIs are built on numpy and we convert the dataset into numpy if you have not done it already"
   ]
  },
  {
   "cell_type": "code",
   "execution_count": null,
   "id": "horizontal-celebrity",
   "metadata": {},
   "outputs": [],
   "source": [
    "X = np.array(X)\n",
    "X_norm = np.array(X_norm)\n",
    "y = np.array(y)"
   ]
  },
  {
   "cell_type": "markdown",
   "id": "linear-institution",
   "metadata": {},
   "source": [
    "They also handle the intercept so we do not need the first column of ones."
   ]
  },
  {
   "cell_type": "code",
   "execution_count": null,
   "id": "thick-leadership",
   "metadata": {},
   "outputs": [],
   "source": [
    "X = X[:, 1:]\n",
    "X_norm = X_norm[:, 1:]"
   ]
  },
  {
   "cell_type": "markdown",
   "id": "phantom-peter",
   "metadata": {},
   "source": [
    "### sklearn\n",
    "Using the dataset of English and French datapoints, we apply logistic regression with the sklearn API. We need the `LogisticRegression` class, the fit() and predict() functions. The weights are in the `coef_` field."
   ]
  },
  {
   "cell_type": "code",
   "execution_count": null,
   "id": "adult-young",
   "metadata": {},
   "outputs": [
    {
     "data": {
      "text/plain": [
       "array([[-0.03372363,  0.51169867]])"
      ]
     },
     "execution_count": 28,
     "metadata": {},
     "output_type": "execute_result"
    }
   ],
   "source": [
    "from sklearn.linear_model import LogisticRegression\n",
    "model = LogisticRegression()\n",
    "model = model.fit(X, y)\n",
    "model.coef_"
   ]
  },
  {
   "cell_type": "markdown",
   "id": "effective-adventure",
   "metadata": {},
   "source": [
    "We predict the classes of the $\\mathbf{X}$ with the `predict()` function"
   ]
  },
  {
   "cell_type": "code",
   "execution_count": null,
   "id": "bizarre-african",
   "metadata": {},
   "outputs": [
    {
     "data": {
      "text/plain": [
       "array([0., 0., 0., 0., 0., 0., 0., 0., 0., 0., 0., 0., 0., 0., 0., 1., 1.,\n",
       "       1., 1., 1., 1., 1., 1., 1., 1., 1., 1., 1., 1., 1.])"
      ]
     },
     "execution_count": 29,
     "metadata": {},
     "output_type": "execute_result"
    }
   ],
   "source": [
    "model.predict(X)"
   ]
  },
  {
   "cell_type": "markdown",
   "id": "dental-watson",
   "metadata": {},
   "source": [
    "We predict the class probabilities of the $\\mathbf{X}$ with the `predict_proba()` function"
   ]
  },
  {
   "cell_type": "code",
   "execution_count": null,
   "id": "composed-playlist",
   "metadata": {},
   "outputs": [
    {
     "data": {
      "text/plain": [
       "array([[1.00000000e+00, 1.28980319e-30],\n",
       "       [9.99999999e-01, 8.16295157e-10],\n",
       "       [9.91302434e-01, 8.69756611e-03],\n",
       "       [1.00000000e+00, 2.35657080e-12],\n",
       "       [1.00000000e+00, 1.01085544e-22],\n",
       "       [1.00000000e+00, 3.56287478e-11],\n",
       "       [1.00000000e+00, 1.62389438e-24],\n",
       "       [1.00000000e+00, 5.76610689e-17],\n",
       "       [1.00000000e+00, 2.72458519e-12],\n",
       "       [9.94843591e-01, 5.15640906e-03],\n",
       "       [9.89714656e-01, 1.02853437e-02],\n",
       "       [1.00000000e+00, 4.22127774e-11],\n",
       "       [1.00000000e+00, 1.22665951e-41],\n",
       "       [1.00000000e+00, 7.37721442e-22],\n",
       "       [1.00000000e+00, 3.90177203e-16],\n",
       "       [1.33226763e-15, 1.00000000e+00],\n",
       "       [0.00000000e+00, 1.00000000e+00],\n",
       "       [1.92390717e-02, 9.80760928e-01],\n",
       "       [0.00000000e+00, 1.00000000e+00],\n",
       "       [1.01629571e-09, 9.99999999e-01],\n",
       "       [0.00000000e+00, 1.00000000e+00],\n",
       "       [0.00000000e+00, 1.00000000e+00],\n",
       "       [0.00000000e+00, 1.00000000e+00],\n",
       "       [0.00000000e+00, 1.00000000e+00],\n",
       "       [0.00000000e+00, 1.00000000e+00],\n",
       "       [0.00000000e+00, 1.00000000e+00],\n",
       "       [0.00000000e+00, 1.00000000e+00],\n",
       "       [0.00000000e+00, 1.00000000e+00],\n",
       "       [0.00000000e+00, 1.00000000e+00],\n",
       "       [1.80182968e-02, 9.81981703e-01]])"
      ]
     },
     "execution_count": 30,
     "metadata": {},
     "output_type": "execute_result"
    }
   ],
   "source": [
    "model.predict_proba(X)"
   ]
  },
  {
   "cell_type": "markdown",
   "id": "developing-oxygen",
   "metadata": {},
   "source": [
    "### Keras\n",
    "Using the dataset of English and French datapoints, we apply logistic regression with Keras. We need the `Sequential` and `Dense` classes."
   ]
  },
  {
   "cell_type": "code",
   "execution_count": null,
   "id": "urban-analysis",
   "metadata": {},
   "outputs": [],
   "source": [
    "from tensorflow.keras import Sequential \n",
    "from tensorflow.keras.layers import Dense"
   ]
  },
  {
   "cell_type": "code",
   "execution_count": null,
   "id": "healthy-kingdom",
   "metadata": {},
   "outputs": [
    {
     "name": "stdout",
     "output_type": "stream",
     "text": [
      "Model: \"sequential\"\n",
      "_________________________________________________________________\n",
      "Layer (type)                 Output Shape              Param #   \n",
      "=================================================================\n",
      "dense (Dense)                (None, 1)                 3         \n",
      "=================================================================\n",
      "Total params: 3\n",
      "Trainable params: 3\n",
      "Non-trainable params: 0\n",
      "_________________________________________________________________\n"
     ]
    }
   ],
   "source": [
    "# Write your code here\n",
    "model = Sequential()\n",
    "model.add(Dense(1, input_dim=2, activation='sigmoid'))\n",
    "model.compile(loss='binary_crossentropy',\n",
    "              optimizer='nadam',\n",
    "              metrics=['accuracy'])\n",
    "model.summary()"
   ]
  },
  {
   "cell_type": "markdown",
   "id": "animated-baseball",
   "metadata": {},
   "source": [
    "We fit the model"
   ]
  },
  {
   "cell_type": "code",
   "execution_count": null,
   "id": "critical-banner",
   "metadata": {},
   "outputs": [
    {
     "data": {
      "text/plain": [
       "<tensorflow.python.keras.callbacks.History at 0x7fe6893af610>"
      ]
     },
     "execution_count": 33,
     "metadata": {},
     "output_type": "execute_result"
    }
   ],
   "source": [
    "model.fit(X, y, epochs=1500, batch_size=4, verbose=0)"
   ]
  },
  {
   "cell_type": "code",
   "execution_count": null,
   "id": "simple-aside",
   "metadata": {},
   "outputs": [
    {
     "data": {
      "text/plain": [
       "array([0., 0., 0., 0., 0., 0., 0., 0., 0., 0., 0., 0., 0., 0., 0., 1., 1.,\n",
       "       1., 1., 1., 1., 1., 1., 1., 1., 1., 1., 1., 1., 1.])"
      ]
     },
     "execution_count": 34,
     "metadata": {},
     "output_type": "execute_result"
    }
   ],
   "source": [
    "y"
   ]
  },
  {
   "cell_type": "code",
   "execution_count": null,
   "id": "genuine-latino",
   "metadata": {},
   "outputs": [
    {
     "data": {
      "text/plain": [
       "array([[0.0000000e+00],\n",
       "       [4.0918851e-27],\n",
       "       [1.6323545e-06],\n",
       "       [1.2727966e-34],\n",
       "       [0.0000000e+00],\n",
       "       [3.9597693e-31],\n",
       "       [0.0000000e+00],\n",
       "       [0.0000000e+00],\n",
       "       [1.8783179e-34],\n",
       "       [3.7781317e-07],\n",
       "       [3.2431558e-06],\n",
       "       [6.4840800e-31],\n",
       "       [0.0000000e+00],\n",
       "       [0.0000000e+00],\n",
       "       [0.0000000e+00],\n",
       "       [1.0000000e+00],\n",
       "       [1.0000000e+00],\n",
       "       [9.9999499e-01],\n",
       "       [1.0000000e+00],\n",
       "       [1.0000000e+00],\n",
       "       [1.0000000e+00],\n",
       "       [1.0000000e+00],\n",
       "       [1.0000000e+00],\n",
       "       [1.0000000e+00],\n",
       "       [1.0000000e+00],\n",
       "       [1.0000000e+00],\n",
       "       [1.0000000e+00],\n",
       "       [1.0000000e+00],\n",
       "       [1.0000000e+00],\n",
       "       [9.9999601e-01]], dtype=float32)"
      ]
     },
     "execution_count": 35,
     "metadata": {},
     "output_type": "execute_result"
    }
   ],
   "source": [
    "model.predict(X)"
   ]
  },
  {
   "cell_type": "code",
   "execution_count": null,
   "id": "contemporary-museum",
   "metadata": {},
   "outputs": [
    {
     "name": "stderr",
     "output_type": "stream",
     "text": [
      "/Users/pierre/opt/anaconda3/lib/python3.8/site-packages/tensorflow/python/keras/engine/sequential.py:459: UserWarning: `model.predict_classes()` is deprecated and will be removed after 2021-01-01. Please use instead:* `np.argmax(model.predict(x), axis=-1)`,   if your model does multi-class classification   (e.g. if it uses a `softmax` last-layer activation).* `(model.predict(x) > 0.5).astype(\"int32\")`,   if your model does binary classification   (e.g. if it uses a `sigmoid` last-layer activation).\n",
      "  warnings.warn('`model.predict_classes()` is deprecated and '\n"
     ]
    },
    {
     "data": {
      "text/plain": [
       "array([[0],\n",
       "       [0],\n",
       "       [0],\n",
       "       [0],\n",
       "       [0],\n",
       "       [0],\n",
       "       [0],\n",
       "       [0],\n",
       "       [0],\n",
       "       [0],\n",
       "       [0],\n",
       "       [0],\n",
       "       [0],\n",
       "       [0],\n",
       "       [0],\n",
       "       [1],\n",
       "       [1],\n",
       "       [1],\n",
       "       [1],\n",
       "       [1],\n",
       "       [1],\n",
       "       [1],\n",
       "       [1],\n",
       "       [1],\n",
       "       [1],\n",
       "       [1],\n",
       "       [1],\n",
       "       [1],\n",
       "       [1],\n",
       "       [1]], dtype=int32)"
      ]
     },
     "execution_count": 36,
     "metadata": {},
     "output_type": "execute_result"
    }
   ],
   "source": [
    "(model.predict(X) > 0.5).astype('int32')"
   ]
  },
  {
   "cell_type": "markdown",
   "id": "close-premium",
   "metadata": {},
   "source": [
    "If you do not obtain a correct classification, rerun the training with more epochs."
   ]
  },
  {
   "cell_type": "markdown",
   "id": "handmade-involvement",
   "metadata": {},
   "source": [
    "## Reading\n",
    "You will read the article *An overview of gradient descent optimization algorithms* by Ruder (2017) and you will outline the main characteristics of all the optimization algorithms the author describes. This part should be of about one to two pages. Link to the article: https://arxiv.org/abs/1609.04747\n",
    "\n",
    "If you understand French, or using Google translate, you may also want to read the original article on gradient descent by Cauchy here:  https://gallica.bnf.fr/ark:/12148/bpt6k2982c/f540.item.\n"
   ]
  },
  {
   "cell_type": "markdown",
   "id": "packed-student",
   "metadata": {},
   "source": [
    "### Report\n",
    "\n",
    "The assignment must be documented in the report, which should contain the following:\n",
    "\n",
    "*   The name of the author, the title of the assignment, and any relevant information on the front page;\n",
    "*   A presentation of the assignment and the possible improvements you would have brought;\n",
    "*   A presentation of your implementation;\n",
    "*   A print-out of the example set(s) and the resulting weight vectors;\n",
    "*   Comments on the results you have obtained, including your cross validation;\n",
    "*   A short dissertation on the optimization algorithms from Ruder's paper.\n",
    "\n",
    "Please, typeset and format your report consistently. You must use Latex. Documents written using MS Word or any similar format will not be considered.\n",
    "\n",
    "You may have a look at the code in the textbook code repository (or any other implementations), but the code you hand in must be your work."
   ]
  },
  {
   "cell_type": "markdown",
   "id": "apparent-cedar",
   "metadata": {},
   "source": [
    "## Submission\n",
    "Submit the notebook and the report to Canvas (two files). Do not include the code printout in the report, but only comments on its interesting parts. You will submit the notebook as a separate file."
   ]
  },
  {
   "cell_type": "code",
   "execution_count": null,
   "id": "endangered-occurrence",
   "metadata": {},
   "outputs": [],
   "source": []
  }
 ],
 "metadata": {
  "kernelspec": {
   "display_name": "Python 3 (ipykernel)",
   "language": "python",
   "name": "python3"
  },
  "language_info": {
   "codemirror_mode": {
    "name": "ipython",
    "version": 3
   },
   "file_extension": ".py",
   "mimetype": "text/x-python",
   "name": "python",
   "nbconvert_exporter": "python",
   "pygments_lexer": "ipython3",
   "version": "3.9.7"
  }
 },
 "nbformat": 4,
 "nbformat_minor": 5
}
